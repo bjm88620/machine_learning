{
 "cells": [
  {
   "cell_type": "markdown",
   "metadata": {},
   "source": [
    "This kernel forked from https://www.kaggle.com/srisudheera/introduction-to-recommendation and got many many insights from following links. If you find this kernel helpful. please do give some credits. Thanks!\n",
    "1. https://www.analyticsvidhya.com/blog/2018/06/comprehensive-guide-recommendation-engine-python/\n",
    "1. https://www.tuicool.com/articles/biYvArn\n",
    "1. http://cis.csuohio.edu/~sschung/CIS660/CollaborativeFilteringSuhua.pdf\n",
    "\n",
    "\n",
    "The original kernel use graphlabs which have been bought by Apple and now it becomes open source project call Turicreate, so i use Turicreate here.\n"
   ]
  },
  {
   "cell_type": "markdown",
   "metadata": {},
   "source": [
    "First let's load the data and do some data exploring analysis."
   ]
  },
  {
   "cell_type": "code",
   "execution_count": 1,
   "metadata": {
    "_cell_guid": "b1076dfc-b9ad-4769-8c92-a6c4dae69d19",
    "_uuid": "8f2839f25d086af736a60e9eeb907d3b93b6e0e5"
   },
   "outputs": [
    {
     "name": "stdout",
     "output_type": "stream",
     "text": [
      "['ml-100k']\n",
      "ml-100k\n",
      "\n"
     ]
    }
   ],
   "source": [
    "import numpy as np # linear algebra\n",
    "import pandas as pd # data processing, CSV file I/O (e.g. pd.read_csv)\n",
    "\n",
    "import os\n",
    "print(os.listdir(\"../input\"))\n",
    "\n",
    "from subprocess import check_output\n",
    "print(check_output([\"ls\", \"../input\"]).decode(\"utf8\"))\n",
    "\n",
    "# Any results you write to the current directory are saved as output."
   ]
  },
  {
   "cell_type": "code",
   "execution_count": 2,
   "metadata": {
    "_cell_guid": "79c7e3d0-c299-4dcb-8224-4455121ee9b0",
    "_uuid": "d629ff2d2480ee46fbb7e2d37f6b5fab8052498a"
   },
   "outputs": [],
   "source": [
    "# 1. User's Dataset\n",
    "u_cols = ['user_id', 'age', 'sex', 'occupation', 'zip_code']\n",
    "users = pd.read_csv('../input/ml-100k/u.user', sep='|', names=u_cols,\n",
    "                    encoding='latin-1', parse_dates=True) \n",
    "# 2. Rating dataset\n",
    "r_cols = ['user_id', 'movie_id', 'rating', 'unix_timestamp']\n",
    "ratings = pd.read_csv('../input/ml-100k/u.data', sep='\\t', names=r_cols,\n",
    "                      encoding='latin-1')\n",
    "\n",
    "# 3.Movies Dataset\n",
    "m_cols = ['movie_id', 'title', 'release_date', 'video_release_date', 'imdb_url','unknown', 'Action', 'Adventure',\n",
    "'Animation', 'Children\\'s', 'Comedy', 'Crime', 'Documentary', 'Drama', 'Fantasy','Film-Noir', 'Horror', 'Musical', 'Mystery', 'Romance', 'Sci-Fi', 'Thriller', 'War', 'Western']\n",
    "movies = pd.read_csv('../input/ml-100k/u.item', sep='|', names=m_cols,\n",
    "                     encoding='latin-1')"
   ]
  },
  {
   "cell_type": "code",
   "execution_count": 3,
   "metadata": {
    "_uuid": "472597c075a56fca4b2695359d18f13ea9102111"
   },
   "outputs": [
    {
     "name": "stdout",
     "output_type": "stream",
     "text": [
      "(943, 5)\n"
     ]
    },
    {
     "data": {
      "text/html": [
       "<div>\n",
       "<style scoped>\n",
       "    .dataframe tbody tr th:only-of-type {\n",
       "        vertical-align: middle;\n",
       "    }\n",
       "\n",
       "    .dataframe tbody tr th {\n",
       "        vertical-align: top;\n",
       "    }\n",
       "\n",
       "    .dataframe thead th {\n",
       "        text-align: right;\n",
       "    }\n",
       "</style>\n",
       "<table border=\"1\" class=\"dataframe\">\n",
       "  <thead>\n",
       "    <tr style=\"text-align: right;\">\n",
       "      <th></th>\n",
       "      <th>user_id</th>\n",
       "      <th>age</th>\n",
       "      <th>sex</th>\n",
       "      <th>occupation</th>\n",
       "      <th>zip_code</th>\n",
       "    </tr>\n",
       "  </thead>\n",
       "  <tbody>\n",
       "    <tr>\n",
       "      <th>0</th>\n",
       "      <td>1</td>\n",
       "      <td>24</td>\n",
       "      <td>M</td>\n",
       "      <td>technician</td>\n",
       "      <td>85711</td>\n",
       "    </tr>\n",
       "    <tr>\n",
       "      <th>1</th>\n",
       "      <td>2</td>\n",
       "      <td>53</td>\n",
       "      <td>F</td>\n",
       "      <td>other</td>\n",
       "      <td>94043</td>\n",
       "    </tr>\n",
       "    <tr>\n",
       "      <th>2</th>\n",
       "      <td>3</td>\n",
       "      <td>23</td>\n",
       "      <td>M</td>\n",
       "      <td>writer</td>\n",
       "      <td>32067</td>\n",
       "    </tr>\n",
       "    <tr>\n",
       "      <th>3</th>\n",
       "      <td>4</td>\n",
       "      <td>24</td>\n",
       "      <td>M</td>\n",
       "      <td>technician</td>\n",
       "      <td>43537</td>\n",
       "    </tr>\n",
       "  </tbody>\n",
       "</table>\n",
       "</div>"
      ],
      "text/plain": [
       "   user_id  age sex  occupation zip_code\n",
       "0        1   24   M  technician    85711\n",
       "1        2   53   F       other    94043\n",
       "2        3   23   M      writer    32067\n",
       "3        4   24   M  technician    43537"
      ]
     },
     "execution_count": 3,
     "metadata": {},
     "output_type": "execute_result"
    }
   ],
   "source": [
    "#users\n",
    "print(users.shape)\n",
    "users.head(4)"
   ]
  },
  {
   "cell_type": "code",
   "execution_count": 4,
   "metadata": {
    "_uuid": "74dc42e5c85f2f36c23216c08ae700ac7f7a716d"
   },
   "outputs": [
    {
     "name": "stdout",
     "output_type": "stream",
     "text": [
      "(100000, 4)\n"
     ]
    },
    {
     "data": {
      "text/html": [
       "<div>\n",
       "<style scoped>\n",
       "    .dataframe tbody tr th:only-of-type {\n",
       "        vertical-align: middle;\n",
       "    }\n",
       "\n",
       "    .dataframe tbody tr th {\n",
       "        vertical-align: top;\n",
       "    }\n",
       "\n",
       "    .dataframe thead th {\n",
       "        text-align: right;\n",
       "    }\n",
       "</style>\n",
       "<table border=\"1\" class=\"dataframe\">\n",
       "  <thead>\n",
       "    <tr style=\"text-align: right;\">\n",
       "      <th></th>\n",
       "      <th>user_id</th>\n",
       "      <th>movie_id</th>\n",
       "      <th>rating</th>\n",
       "      <th>unix_timestamp</th>\n",
       "    </tr>\n",
       "  </thead>\n",
       "  <tbody>\n",
       "    <tr>\n",
       "      <th>0</th>\n",
       "      <td>196</td>\n",
       "      <td>242</td>\n",
       "      <td>3</td>\n",
       "      <td>881250949</td>\n",
       "    </tr>\n",
       "    <tr>\n",
       "      <th>1</th>\n",
       "      <td>186</td>\n",
       "      <td>302</td>\n",
       "      <td>3</td>\n",
       "      <td>891717742</td>\n",
       "    </tr>\n",
       "    <tr>\n",
       "      <th>2</th>\n",
       "      <td>22</td>\n",
       "      <td>377</td>\n",
       "      <td>1</td>\n",
       "      <td>878887116</td>\n",
       "    </tr>\n",
       "    <tr>\n",
       "      <th>3</th>\n",
       "      <td>244</td>\n",
       "      <td>51</td>\n",
       "      <td>2</td>\n",
       "      <td>880606923</td>\n",
       "    </tr>\n",
       "  </tbody>\n",
       "</table>\n",
       "</div>"
      ],
      "text/plain": [
       "   user_id  movie_id  rating  unix_timestamp\n",
       "0      196       242       3       881250949\n",
       "1      186       302       3       891717742\n",
       "2       22       377       1       878887116\n",
       "3      244        51       2       880606923"
      ]
     },
     "execution_count": 4,
     "metadata": {},
     "output_type": "execute_result"
    }
   ],
   "source": [
    "#ratings\n",
    "print(ratings.shape)\n",
    "ratings.head(4)"
   ]
  },
  {
   "cell_type": "code",
   "execution_count": 5,
   "metadata": {
    "_uuid": "e517dd6c1febb26d0bcb17b2679629b420074a04"
   },
   "outputs": [
    {
     "name": "stdout",
     "output_type": "stream",
     "text": [
      "(1682, 24)\n"
     ]
    },
    {
     "data": {
      "text/html": [
       "<div>\n",
       "<style scoped>\n",
       "    .dataframe tbody tr th:only-of-type {\n",
       "        vertical-align: middle;\n",
       "    }\n",
       "\n",
       "    .dataframe tbody tr th {\n",
       "        vertical-align: top;\n",
       "    }\n",
       "\n",
       "    .dataframe thead th {\n",
       "        text-align: right;\n",
       "    }\n",
       "</style>\n",
       "<table border=\"1\" class=\"dataframe\">\n",
       "  <thead>\n",
       "    <tr style=\"text-align: right;\">\n",
       "      <th></th>\n",
       "      <th>movie_id</th>\n",
       "      <th>title</th>\n",
       "      <th>release_date</th>\n",
       "      <th>video_release_date</th>\n",
       "      <th>imdb_url</th>\n",
       "      <th>unknown</th>\n",
       "      <th>Action</th>\n",
       "      <th>Adventure</th>\n",
       "      <th>Animation</th>\n",
       "      <th>Children's</th>\n",
       "      <th>Comedy</th>\n",
       "      <th>Crime</th>\n",
       "      <th>Documentary</th>\n",
       "      <th>Drama</th>\n",
       "      <th>Fantasy</th>\n",
       "      <th>Film-Noir</th>\n",
       "      <th>Horror</th>\n",
       "      <th>Musical</th>\n",
       "      <th>Mystery</th>\n",
       "      <th>Romance</th>\n",
       "      <th>Sci-Fi</th>\n",
       "      <th>Thriller</th>\n",
       "      <th>War</th>\n",
       "      <th>Western</th>\n",
       "    </tr>\n",
       "  </thead>\n",
       "  <tbody>\n",
       "    <tr>\n",
       "      <th>0</th>\n",
       "      <td>1</td>\n",
       "      <td>Toy Story (1995)</td>\n",
       "      <td>01-Jan-1995</td>\n",
       "      <td>NaN</td>\n",
       "      <td>http://us.imdb.com/M/title-exact?Toy%20Story%2...</td>\n",
       "      <td>0</td>\n",
       "      <td>0</td>\n",
       "      <td>0</td>\n",
       "      <td>1</td>\n",
       "      <td>1</td>\n",
       "      <td>1</td>\n",
       "      <td>0</td>\n",
       "      <td>0</td>\n",
       "      <td>0</td>\n",
       "      <td>0</td>\n",
       "      <td>0</td>\n",
       "      <td>0</td>\n",
       "      <td>0</td>\n",
       "      <td>0</td>\n",
       "      <td>0</td>\n",
       "      <td>0</td>\n",
       "      <td>0</td>\n",
       "      <td>0</td>\n",
       "      <td>0</td>\n",
       "    </tr>\n",
       "    <tr>\n",
       "      <th>1</th>\n",
       "      <td>2</td>\n",
       "      <td>GoldenEye (1995)</td>\n",
       "      <td>01-Jan-1995</td>\n",
       "      <td>NaN</td>\n",
       "      <td>http://us.imdb.com/M/title-exact?GoldenEye%20(...</td>\n",
       "      <td>0</td>\n",
       "      <td>1</td>\n",
       "      <td>1</td>\n",
       "      <td>0</td>\n",
       "      <td>0</td>\n",
       "      <td>0</td>\n",
       "      <td>0</td>\n",
       "      <td>0</td>\n",
       "      <td>0</td>\n",
       "      <td>0</td>\n",
       "      <td>0</td>\n",
       "      <td>0</td>\n",
       "      <td>0</td>\n",
       "      <td>0</td>\n",
       "      <td>0</td>\n",
       "      <td>0</td>\n",
       "      <td>1</td>\n",
       "      <td>0</td>\n",
       "      <td>0</td>\n",
       "    </tr>\n",
       "    <tr>\n",
       "      <th>2</th>\n",
       "      <td>3</td>\n",
       "      <td>Four Rooms (1995)</td>\n",
       "      <td>01-Jan-1995</td>\n",
       "      <td>NaN</td>\n",
       "      <td>http://us.imdb.com/M/title-exact?Four%20Rooms%...</td>\n",
       "      <td>0</td>\n",
       "      <td>0</td>\n",
       "      <td>0</td>\n",
       "      <td>0</td>\n",
       "      <td>0</td>\n",
       "      <td>0</td>\n",
       "      <td>0</td>\n",
       "      <td>0</td>\n",
       "      <td>0</td>\n",
       "      <td>0</td>\n",
       "      <td>0</td>\n",
       "      <td>0</td>\n",
       "      <td>0</td>\n",
       "      <td>0</td>\n",
       "      <td>0</td>\n",
       "      <td>0</td>\n",
       "      <td>1</td>\n",
       "      <td>0</td>\n",
       "      <td>0</td>\n",
       "    </tr>\n",
       "    <tr>\n",
       "      <th>3</th>\n",
       "      <td>4</td>\n",
       "      <td>Get Shorty (1995)</td>\n",
       "      <td>01-Jan-1995</td>\n",
       "      <td>NaN</td>\n",
       "      <td>http://us.imdb.com/M/title-exact?Get%20Shorty%...</td>\n",
       "      <td>0</td>\n",
       "      <td>1</td>\n",
       "      <td>0</td>\n",
       "      <td>0</td>\n",
       "      <td>0</td>\n",
       "      <td>1</td>\n",
       "      <td>0</td>\n",
       "      <td>0</td>\n",
       "      <td>1</td>\n",
       "      <td>0</td>\n",
       "      <td>0</td>\n",
       "      <td>0</td>\n",
       "      <td>0</td>\n",
       "      <td>0</td>\n",
       "      <td>0</td>\n",
       "      <td>0</td>\n",
       "      <td>0</td>\n",
       "      <td>0</td>\n",
       "      <td>0</td>\n",
       "    </tr>\n",
       "  </tbody>\n",
       "</table>\n",
       "</div>"
      ],
      "text/plain": [
       "   movie_id              title release_date   ...     Thriller War  Western\n",
       "0         1   Toy Story (1995)  01-Jan-1995   ...            0   0        0\n",
       "1         2   GoldenEye (1995)  01-Jan-1995   ...            1   0        0\n",
       "2         3  Four Rooms (1995)  01-Jan-1995   ...            1   0        0\n",
       "3         4  Get Shorty (1995)  01-Jan-1995   ...            0   0        0\n",
       "\n",
       "[4 rows x 24 columns]"
      ]
     },
     "execution_count": 5,
     "metadata": {},
     "output_type": "execute_result"
    }
   ],
   "source": [
    "#items\n",
    "print(movies.shape)\n",
    "movies.head(4)"
   ]
  },
  {
   "cell_type": "code",
   "execution_count": 6,
   "metadata": {
    "_uuid": "8ea0c1e7f24626d6b9f47d3d5d44a4453c9144c6"
   },
   "outputs": [
    {
     "data": {
      "text/plain": [
       "((90570, 4), (9430, 4))"
      ]
     },
     "execution_count": 6,
     "metadata": {},
     "output_type": "execute_result"
    }
   ],
   "source": [
    "r_cols = ['user_id', 'movie_id', 'rating', 'unix_timestamp']\n",
    "ratings_train = pd.read_csv('../input/ml-100k/ua.base', sep='\\t', names=r_cols, encoding='latin-1')\n",
    "ratings_test = pd.read_csv('../input/ml-100k/ua.test', sep='\\t', names=r_cols, encoding='latin-1')\n",
    "ratings_train.shape, ratings_test.shape"
   ]
  },
  {
   "cell_type": "code",
   "execution_count": 7,
   "metadata": {
    "_uuid": "d4f9dc0bf3b7426fea2b4343e78932da91194e57"
   },
   "outputs": [
    {
     "data": {
      "text/plain": [
       "(   user_id  movie_id  rating  unix_timestamp\n",
       " 0        1         1       5       874965758\n",
       " 1        1         2       3       876893171\n",
       " 2        1         3       4       878542960\n",
       " 3        1         4       3       876893119,\n",
       "    user_id  movie_id  rating  unix_timestamp\n",
       " 0        1        20       4       887431883\n",
       " 1        1        33       4       878542699\n",
       " 2        1        61       4       878542420\n",
       " 3        1       117       3       874965739)"
      ]
     },
     "execution_count": 7,
     "metadata": {},
     "output_type": "execute_result"
    }
   ],
   "source": [
    "ratings_train.head(4),ratings_test.head(4)"
   ]
  },
  {
   "cell_type": "code",
   "execution_count": 8,
   "metadata": {
    "_uuid": "dd50051ec4524c17b785a9e0c6c0d67c53e9d756"
   },
   "outputs": [
    {
     "data": {
      "text/plain": [
       "<matplotlib.axes._subplots.AxesSubplot at 0x7f6f26f0d7f0>"
      ]
     },
     "execution_count": 8,
     "metadata": {},
     "output_type": "execute_result"
    },
    {
     "data": {
      "image/png": "[encoded data removed]",
      "text/plain": [
       "<Figure size 432x288 with 1 Axes>"
      ]
     },
     "metadata": {},
     "output_type": "display_data"
    }
   ],
   "source": [
    "import matplotlib.pyplot as plt\n",
    "import seaborn as sns\n",
    "sns.countplot(x=ratings_train.rating,data=ratings_train)"
   ]
  },
  {
   "cell_type": "code",
   "execution_count": 9,
   "metadata": {},
   "outputs": [
    {
     "data": {
      "text/plain": [
       "movie_id\n",
       "1500    5.000000\n",
       "1293    5.000000\n",
       "1122    5.000000\n",
       "1189    5.000000\n",
       "1656    5.000000\n",
       "1201    5.000000\n",
       "1599    5.000000\n",
       "814     5.000000\n",
       "1467    5.000000\n",
       "1536    5.000000\n",
       "1449    4.714286\n",
       "1642    4.500000\n",
       "1463    4.500000\n",
       "1594    4.500000\n",
       "1398    4.500000\n",
       "114     4.491525\n",
       "408     4.480769\n",
       "169     4.476636\n",
       "318     4.475836\n",
       "483     4.459821\n",
       "Name: rating, dtype: float64"
      ]
     },
     "execution_count": 9,
     "metadata": {},
     "output_type": "execute_result"
    }
   ],
   "source": [
    "ratings_train.groupby(by='movie_id')['rating'].mean().sort_values(ascending=False).head(20)"
   ]
  },
  {
   "cell_type": "code",
   "execution_count": 10,
   "metadata": {
    "_uuid": "65b9dcd987f2a745ef69681e1ef8904e5e4665ad"
   },
   "outputs": [
    {
     "data": {
      "text/plain": [
       "user_id\n",
       "405    727\n",
       "655    675\n",
       "13     626\n",
       "450    530\n",
       "276    508\n",
       "Name: rating, dtype: int64"
      ]
     },
     "execution_count": 10,
     "metadata": {},
     "output_type": "execute_result"
    }
   ],
   "source": [
    "no_of_rated_movies_per_user = ratings_train.groupby(by='user_id')['rating'].count().sort_values(ascending=False)\n",
    "no_of_rated_movies_per_user.head()"
   ]
  },
  {
   "attachments": {
    "image.png": {
     "image/png": "[encoded data removed]"
    }
   },
   "cell_type": "markdown",
   "metadata": {
    "_uuid": "2365558ca753f330c0d024c2abf9ae836d54561c"
   },
   "source": [
    "Looking PDF and CDF of number of rated movies per user\n",
    "\n",
    "**CDF**: cummulative denisty function. It is the total probability of anything below it. Its range is 0-1. Also known as density function. Represented as F(x).\n",
    "\n",
    "**PDF** : Probability denisty function. It is probability at one point. also know as probability mass function(PMF). Represented as f(x).\n",
    "![1](https://qph.ec.quoracdn.net/main-qimg-e50787cd6024e1945ef5632192b70a69)\n",
    "[2](http://work.thaslwanter.at/Stats/html/statsDistributions.html)\n",
    "So both F(x) and f(x) as inter related to each other.\n",
    "if we do the derivative of F(x) we get the f(x) and vice versa if we integrate f(x) we get the F(x).\n",
    "\n",
    "**In detail Explaination:**\n",
    "Generally Random variables are two types \n",
    "\n",
    "1.** Continuos**: Which is solved by integral.\n",
    "![image.png](attachment:image.png)  \n",
    "2.** Discrete** : Which is solved by summation.\n",
    "\n",
    "So we can say the *PDF* is the continuous function.\n",
    "\n",
    "[For more Explanation please refer this vedio](http://youtu.be/DIsZFAV9Hy0)"
   ]
  },
  {
   "cell_type": "code",
   "execution_count": 11,
   "metadata": {
    "_uuid": "cacc0b63121ad1dacdfdcfb4953ea3a293b09bbb"
   },
   "outputs": [
    {
     "name": "stderr",
     "output_type": "stream",
     "text": [
      "/opt/conda/lib/python3.6/site-packages/scipy/stats/stats.py:1713: FutureWarning: Using a non-tuple sequence for multidimensional indexing is deprecated; use `arr[tuple(seq)]` instead of `arr[seq]`. In the future this will be interpreted as an array index, `arr[np.array(seq)]`, which will result either in an error or a different result.\n",
      "  return np.add.reduce(sorted[indexer] * weights, axis=axis) / sumval\n"
     ]
    },
    {
     "data": {
      "image/png": "[encoded data removed]",
      "text/plain": [
       "<Figure size 432x288 with 2 Axes>"
      ]
     },
     "metadata": {},
     "output_type": "display_data"
    }
   ],
   "source": [
    "ax1 = plt.subplot(121)\n",
    "sns.kdeplot(no_of_rated_movies_per_user, shade=True, ax=ax1)\n",
    "plt.xlabel('No of ratings by user')\n",
    "plt.title(\"PDF\")\n",
    "\n",
    "ax2 = plt.subplot(122)\n",
    "sns.kdeplot(no_of_rated_movies_per_user, shade=True, cumulative=True,ax=ax2)\n",
    "plt.xlabel('No of ratings by user')\n",
    "plt.title('CDF')\n",
    "\n",
    "plt.show()"
   ]
  },
  {
   "cell_type": "code",
   "execution_count": 12,
   "metadata": {
    "_uuid": "e25d084f5a8f51d032852353df822c81e27df16b"
   },
   "outputs": [
    {
     "data": {
      "text/plain": [
       "count    943.000000\n",
       "mean      96.044539\n",
       "std      100.931743\n",
       "min       10.000000\n",
       "25%       23.000000\n",
       "50%       55.000000\n",
       "75%      138.000000\n",
       "max      727.000000\n",
       "Name: rating, dtype: float64"
      ]
     },
     "execution_count": 12,
     "metadata": {},
     "output_type": "execute_result"
    }
   ],
   "source": [
    "no_of_rated_movies_per_user.describe()"
   ]
  },
  {
   "cell_type": "code",
   "execution_count": 13,
   "metadata": {
    "_uuid": "e936054ac9d45a5f0f178f58d139eaf631c271fb"
   },
   "outputs": [
    {
     "data": {
      "text/plain": [
       "0.00     10\n",
       "0.01     10\n",
       "0.02     10\n",
       "0.03     10\n",
       "0.04     11\n",
       "0.05     11\n",
       "0.06     12\n",
       "0.07     12\n",
       "0.08     12\n",
       "0.09     13\n",
       "0.10     13\n",
       "0.11     14\n",
       "0.12     14\n",
       "0.13     15\n",
       "0.14     15\n",
       "0.15     16\n",
       "0.16     16\n",
       "0.17     17\n",
       "0.18     17\n",
       "0.19     18\n",
       "0.20     19\n",
       "0.21     19\n",
       "0.22     20\n",
       "0.23     21\n",
       "0.24     22\n",
       "0.25     23\n",
       "0.26     23\n",
       "0.27     25\n",
       "0.28     25\n",
       "0.29     27\n",
       "       ... \n",
       "0.71    123\n",
       "0.72    126\n",
       "0.73    130\n",
       "0.74    135\n",
       "0.75    138\n",
       "0.76    140\n",
       "0.77    145\n",
       "0.78    150\n",
       "0.79    156\n",
       "0.80    162\n",
       "0.81    171\n",
       "0.82    174\n",
       "0.83    179\n",
       "0.84    187\n",
       "0.85    196\n",
       "0.86    205\n",
       "0.87    211\n",
       "0.88    218\n",
       "0.89    226\n",
       "0.90    235\n",
       "0.91    252\n",
       "0.92    263\n",
       "0.93    270\n",
       "0.94    284\n",
       "0.95    301\n",
       "0.96    318\n",
       "0.97    350\n",
       "0.98    378\n",
       "0.99    438\n",
       "1.00    727\n",
       "Name: rating, Length: 101, dtype: int64"
      ]
     },
     "execution_count": 13,
     "metadata": {},
     "output_type": "execute_result"
    }
   ],
   "source": [
    "quantiles = no_of_rated_movies_per_user.quantile(np.arange(0,1.01,0.01), interpolation='higher')\n",
    "quantiles"
   ]
  },
  {
   "cell_type": "code",
   "execution_count": 14,
   "metadata": {
    "_uuid": "e7a10705a5550a0248a58262b8a6faf240831a59"
   },
   "outputs": [
    {
     "data": {
      "image/png": "[encoded data removed]",
      "text/plain": [
       "<Figure size 432x288 with 1 Axes>"
      ]
     },
     "metadata": {},
     "output_type": "display_data"
    }
   ],
   "source": [
    "plt.title(\"Quantiles and their Values\")\n",
    "quantiles.plot()\n",
    "# quantiles with 0.05 difference\n",
    "plt.scatter(x=quantiles.index[::5], y=quantiles.values[::5], c='orange', label=\"quantiles with 0.05 intervals\")\n",
    "# quantiles with 0.25 difference\n",
    "plt.scatter(x=quantiles.index[::25], y=quantiles.values[::25], c='m', label = \"quantiles with 0.25 intervals\")\n",
    "plt.ylabel('No of ratings by user')\n",
    "plt.xlabel('Value at the quantile')\n",
    "plt.legend(loc='best')\n",
    "\n",
    "# annotate the 25th, 50th, 75th and 100th percentile values....\n",
    "for x,y in zip(quantiles.index[::25], quantiles[::25]):\n",
    "    plt.annotate(s=\"({} , {})\".format(x,y), xy=(x,y), xytext=(x-0.05, y+500)\n",
    "                ,fontweight='bold')\n",
    "\n",
    "plt.show()"
   ]
  },
  {
   "cell_type": "code",
   "execution_count": 15,
   "metadata": {
    "_uuid": "1c4aa53836fa40a953e9bec988c6a5d3586351a0"
   },
   "outputs": [
    {
     "data": {
      "text/plain": [
       "0.00     10\n",
       "0.05     11\n",
       "0.10     13\n",
       "0.15     16\n",
       "0.20     19\n",
       "0.25     23\n",
       "0.30     28\n",
       "0.35     33\n",
       "0.40     40\n",
       "0.45     47\n",
       "0.50     55\n",
       "0.55     65\n",
       "0.60     83\n",
       "0.65     98\n",
       "0.70    118\n",
       "0.75    138\n",
       "0.80    162\n",
       "0.85    196\n",
       "0.90    235\n",
       "0.95    301\n",
       "1.00    727\n",
       "Name: rating, dtype: int64"
      ]
     },
     "execution_count": 15,
     "metadata": {},
     "output_type": "execute_result"
    }
   ],
   "source": [
    "quantiles[::5]"
   ]
  },
  {
   "cell_type": "code",
   "execution_count": 16,
   "metadata": {
    "_uuid": "97ff5f37cd77084ae0e11b9a0ee56f13e8884e44"
   },
   "outputs": [
    {
     "name": "stdout",
     "output_type": "stream",
     "text": [
      "\n",
      " No of ratings at last 5 percentile : 48\n",
      "\n"
     ]
    }
   ],
   "source": [
    "print('\\n No of ratings at last 5 percentile : {}\\n'.format(sum(no_of_rated_movies_per_user>= 301)) )"
   ]
  },
  {
   "cell_type": "code",
   "execution_count": 17,
   "metadata": {
    "_uuid": "cf2e0a295f56998e8c45a4d0f10f8635f7932be2"
   },
   "outputs": [
    {
     "data": {
      "image/png": "[encoded data removed]",
      "text/plain": [
       "<Figure size 576x288 with 1 Axes>"
      ]
     },
     "metadata": {},
     "output_type": "display_data"
    }
   ],
   "source": [
    "no_of_ratings_per_movie = ratings_train.groupby(by='movie_id')['rating'].count().sort_values(ascending=False)\n",
    "\n",
    "fig = plt.figure(figsize=plt.figaspect(.5))\n",
    "ax = plt.gca()\n",
    "plt.plot(no_of_ratings_per_movie.values)\n",
    "plt.title('# RATINGS per Movie')\n",
    "plt.xlabel('Movie')\n",
    "plt.ylabel('No of Users who rated a movie')\n",
    "ax.set_xticklabels([])\n",
    "\n",
    "plt.show()"
   ]
  },
  {
   "cell_type": "markdown",
   "metadata": {},
   "source": [
    "### Building collaborative filtering model from scratch"
   ]
  },
  {
   "cell_type": "code",
   "execution_count": 18,
   "metadata": {
    "_uuid": "c5d91e55521008f27dda4319525f8b55d95dd4f2"
   },
   "outputs": [],
   "source": [
    "n_users = ratings.user_id.unique().shape[0]\n",
    "n_items = ratings.movie_id.unique().shape[0]"
   ]
  },
  {
   "cell_type": "code",
   "execution_count": 19,
   "metadata": {
    "_uuid": "031b2820c3097c546c812c8ccd27e3cdcf4edea1"
   },
   "outputs": [],
   "source": [
    "data_matrix = np.zeros((n_users, n_items))\n",
    "for line in ratings.itertuples():\n",
    "    data_matrix[line[1]-1, line[2]-1] = line[3]\n",
    "    \n",
    "test_data_matrix = np.zeros((n_users, n_items))\n",
    "for line in ratings_test.itertuples():\n",
    "    test_data_matrix[line[1]-1, line[2]-1] = line[3]"
   ]
  },
  {
   "cell_type": "code",
   "execution_count": 20,
   "metadata": {
    "_uuid": "6586e821cb012ea23e66c585d41503ee49c94e0f"
   },
   "outputs": [
    {
     "name": "stdout",
     "output_type": "stream",
     "text": [
      "0.16693098386870198\n"
     ]
    }
   ],
   "source": [
    "from sklearn.metrics.pairwise import pairwise_distances\n",
    "from sklearn.metrics.pairwise import cosine_similarity \n",
    "\n",
    "#user_similarity = pairwise_distances(data_matrix, metric='cosine')\n",
    "#item_similarity = pairwise_distances(data_matrix.T, metric='cosine')\n",
    "#print (user_similarity[0][1])\n",
    "\n",
    "# NOTE: why use pairwise_distances? why not cosine_similarity? cosine_distance = 1-cosine_similarity. i believe cosine_similarity is right for here.\n",
    "# let's change it to consine_similarity\n",
    "\n",
    "user_similarity = cosine_similarity(data_matrix)\n",
    "item_similarity = cosine_similarity(data_matrix.T)\n",
    "print (user_similarity[0][1])\n"
   ]
  },
  {
   "cell_type": "code",
   "execution_count": 21,
   "metadata": {},
   "outputs": [
    {
     "data": {
      "text/plain": [
       "(943, 943)"
      ]
     },
     "execution_count": 21,
     "metadata": {},
     "output_type": "execute_result"
    }
   ],
   "source": [
    "user_similarity.shape"
   ]
  },
  {
   "attachments": {
    "image.png": {
     "image/png": "[encoded data removed]"
    }
   },
   "cell_type": "markdown",
   "metadata": {},
   "source": [
    "use following formula to calculate prediction:\n",
    "![image.png](attachment:image.png)\n",
    "\n",
    "refer to http://cis.csuohio.edu/~sschung/CIS660/CollaborativeFilteringSuhua.pdf"
   ]
  },
  {
   "cell_type": "code",
   "execution_count": 22,
   "metadata": {
    "_uuid": "8cf439097d34d866dbbfa19034cf23d5abd7bcf9"
   },
   "outputs": [],
   "source": [
    "def predict(ratings, similarity, type='user'):\n",
    "    if type == 'user':\n",
    "        mean_user_rating = ratings.mean(axis=1)\n",
    "        print (mean_user_rating.shape)\n",
    "        print (mean_user_rating[:, np.newaxis].shape)\n",
    "        #We use np.newaxis so that mean_user_rating has same format as ratings\n",
    "        ratings_diff = (ratings - mean_user_rating[:, np.newaxis])\n",
    "\n",
    "        pred = mean_user_rating[:, np.newaxis] + similarity.dot(ratings_diff) / np.array([np.abs(similarity).sum(axis=1)]).T\n",
    "        print (np.array([np.abs(similarity).sum(axis=1)]).shape, pred.shape)\n",
    "    elif type == 'item':\n",
    "        pred = ratings.dot(similarity) / np.array([np.abs(similarity).sum(axis=1)])\n",
    "    return pred"
   ]
  },
  {
   "cell_type": "code",
   "execution_count": 23,
   "metadata": {
    "_uuid": "67265b43638716a5f420c058edea106b4c4432b8"
   },
   "outputs": [
    {
     "name": "stdout",
     "output_type": "stream",
     "text": [
      "(943,)\n",
      "(943, 1)\n",
      "(1, 943) (943, 1682)\n",
      "[5. 3. 4. ... 0. 0. 0.]\n",
      "[2.69523211 1.02855273 0.71474438 ... 0.27084883 0.27682149 0.27767246]\n"
     ]
    }
   ],
   "source": [
    "user_prediction = predict(data_matrix, user_similarity, type='user')\n",
    "item_prediction = predict(data_matrix, item_similarity, type='item')\n",
    "print (data_matrix[0])\n",
    "print (user_prediction[0])"
   ]
  },
  {
   "cell_type": "code",
   "execution_count": 24,
   "metadata": {},
   "outputs": [],
   "source": [
    "from sklearn.metrics import mean_squared_error\n",
    "from math import sqrt\n",
    "def rmse(prediction, ground_truth):\n",
    "    prediction = prediction[ground_truth.nonzero()].flatten() \n",
    "    ground_truth = ground_truth[ground_truth.nonzero()].flatten()\n",
    "    #print (prediction.shape, ground_truth.shape)\n",
    "    return sqrt(mean_squared_error(prediction, ground_truth))"
   ]
  },
  {
   "cell_type": "code",
   "execution_count": 25,
   "metadata": {},
   "outputs": [
    {
     "name": "stdout",
     "output_type": "stream",
     "text": [
      "User-based CF RMSE: 2.7987250835799276\n",
      "Item-based CF RMSE: 3.3099173898580325\n"
     ]
    }
   ],
   "source": [
    "print ('User-based CF RMSE: ' + str(rmse(user_prediction, test_data_matrix)))\n",
    "print ('Item-based CF RMSE: ' + str(rmse(item_prediction, test_data_matrix)))"
   ]
  },
  {
   "cell_type": "markdown",
   "metadata": {},
   "source": [
    "### Building a simple popularity and collaborative filtering model using Turicreate"
   ]
  },
  {
   "cell_type": "code",
   "execution_count": 26,
   "metadata": {
    "_uuid": "78213318d56f9708ed7e0a454ca29f065582a0a8"
   },
   "outputs": [],
   "source": [
    "import turicreate\n",
    "\n",
    "train_data = turicreate.SFrame(ratings_train)\n",
    "test_data = turicreate.SFrame(ratings_test)"
   ]
  },
  {
   "cell_type": "code",
   "execution_count": 27,
   "metadata": {
    "_uuid": "8a26a52bc5bf07e0c813588fdc10f6c788431271"
   },
   "outputs": [
    {
     "data": {
      "text/html": [
       "<pre>Warning: Ignoring columns unix_timestamp;</pre>"
      ],
      "text/plain": [
       "Warning: Ignoring columns unix_timestamp;"
      ]
     },
     "metadata": {},
     "output_type": "display_data"
    },
    {
     "data": {
      "text/html": [
       "<pre>    To use these columns in scoring predictions, use a model that allows the use of additional features.</pre>"
      ],
      "text/plain": [
       "    To use these columns in scoring predictions, use a model that allows the use of additional features."
      ]
     },
     "metadata": {},
     "output_type": "display_data"
    },
    {
     "data": {
      "text/html": [
       "<pre>Preparing data set.</pre>"
      ],
      "text/plain": [
       "Preparing data set."
      ]
     },
     "metadata": {},
     "output_type": "display_data"
    },
    {
     "data": {
      "text/html": [
       "<pre>    Data has 90570 observations with 943 users and 1680 items.</pre>"
      ],
      "text/plain": [
       "    Data has 90570 observations with 943 users and 1680 items."
      ]
     },
     "metadata": {},
     "output_type": "display_data"
    },
    {
     "data": {
      "text/html": [
       "<pre>    Data prepared in: 0.08627s</pre>"
      ],
      "text/plain": [
       "    Data prepared in: 0.08627s"
      ]
     },
     "metadata": {},
     "output_type": "display_data"
    },
    {
     "data": {
      "text/html": [
       "<pre>90570 observations to process; with 1680 unique items.</pre>"
      ],
      "text/plain": [
       "90570 observations to process; with 1680 unique items."
      ]
     },
     "metadata": {},
     "output_type": "display_data"
    }
   ],
   "source": [
    "popularity_model = turicreate.popularity_recommender.create(train_data, user_id='user_id', item_id='movie_id', target='rating')"
   ]
  },
  {
   "cell_type": "code",
   "execution_count": 28,
   "metadata": {
    "_uuid": "6f1c32412f4cca00d95be452d7619df1b8a16833"
   },
   "outputs": [
    {
     "name": "stdout",
     "output_type": "stream",
     "text": [
      "+---------+----------+-------+------+\n",
      "| user_id | movie_id | score | rank |\n",
      "+---------+----------+-------+------+\n",
      "|    1    |   1599   |  5.0  |  1   |\n",
      "|    1    |   1201   |  5.0  |  2   |\n",
      "|    1    |   1189   |  5.0  |  3   |\n",
      "|    1    |   1122   |  5.0  |  4   |\n",
      "|    1    |   814    |  5.0  |  5   |\n",
      "|    2    |   1599   |  5.0  |  1   |\n",
      "|    2    |   1201   |  5.0  |  2   |\n",
      "|    2    |   1189   |  5.0  |  3   |\n",
      "|    2    |   1122   |  5.0  |  4   |\n",
      "|    2    |   814    |  5.0  |  5   |\n",
      "|    3    |   1599   |  5.0  |  1   |\n",
      "|    3    |   1201   |  5.0  |  2   |\n",
      "|    3    |   1189   |  5.0  |  3   |\n",
      "|    3    |   1122   |  5.0  |  4   |\n",
      "|    3    |   814    |  5.0  |  5   |\n",
      "|    4    |   1599   |  5.0  |  1   |\n",
      "|    4    |   1201   |  5.0  |  2   |\n",
      "|    4    |   1189   |  5.0  |  3   |\n",
      "|    4    |   1122   |  5.0  |  4   |\n",
      "|    4    |   814    |  5.0  |  5   |\n",
      "|    5    |   1599   |  5.0  |  1   |\n",
      "|    5    |   1201   |  5.0  |  2   |\n",
      "|    5    |   1189   |  5.0  |  3   |\n",
      "|    5    |   1122   |  5.0  |  4   |\n",
      "|    5    |   814    |  5.0  |  5   |\n",
      "+---------+----------+-------+------+\n",
      "[25 rows x 4 columns]\n",
      "\n"
     ]
    }
   ],
   "source": [
    "#Get recommendations for first 5 users and print them\n",
    "#users = range(1,6) specifies user ID of first 5 users\n",
    "#k=5 specifies top 5 recommendations to be given\n",
    "popularity_recomm = popularity_model.recommend(users=list(range(1,6)),k=5)\n",
    "popularity_recomm.print_rows(num_rows=25)\n"
   ]
  },
  {
   "cell_type": "code",
   "execution_count": 29,
   "metadata": {
    "_uuid": "7338e49b7231002b6187be3cabc043220b1c4cb5"
   },
   "outputs": [
    {
     "data": {
      "text/html": [
       "<pre>Warning: Ignoring columns unix_timestamp;</pre>"
      ],
      "text/plain": [
       "Warning: Ignoring columns unix_timestamp;"
      ]
     },
     "metadata": {},
     "output_type": "display_data"
    },
    {
     "data": {
      "text/html": [
       "<pre>    To use these columns in scoring predictions, use a model that allows the use of additional features.</pre>"
      ],
      "text/plain": [
       "    To use these columns in scoring predictions, use a model that allows the use of additional features."
      ]
     },
     "metadata": {},
     "output_type": "display_data"
    },
    {
     "data": {
      "text/html": [
       "<pre>Preparing data set.</pre>"
      ],
      "text/plain": [
       "Preparing data set."
      ]
     },
     "metadata": {},
     "output_type": "display_data"
    },
    {
     "data": {
      "text/html": [
       "<pre>    Data has 90570 observations with 943 users and 1680 items.</pre>"
      ],
      "text/plain": [
       "    Data has 90570 observations with 943 users and 1680 items."
      ]
     },
     "metadata": {},
     "output_type": "display_data"
    },
    {
     "data": {
      "text/html": [
       "<pre>    Data prepared in: 0.082909s</pre>"
      ],
      "text/plain": [
       "    Data prepared in: 0.082909s"
      ]
     },
     "metadata": {},
     "output_type": "display_data"
    },
    {
     "data": {
      "text/html": [
       "<pre>Training model from provided data.</pre>"
      ],
      "text/plain": [
       "Training model from provided data."
      ]
     },
     "metadata": {},
     "output_type": "display_data"
    },
    {
     "data": {
      "text/html": [
       "<pre>Gathering per-item and per-user statistics.</pre>"
      ],
      "text/plain": [
       "Gathering per-item and per-user statistics."
      ]
     },
     "metadata": {},
     "output_type": "display_data"
    },
    {
     "data": {
      "text/html": [
       "<pre>+--------------------------------+------------+</pre>"
      ],
      "text/plain": [
       "+--------------------------------+------------+"
      ]
     },
     "metadata": {},
     "output_type": "display_data"
    },
    {
     "data": {
      "text/html": [
       "<pre>| Elapsed Time (Item Statistics) | % Complete |</pre>"
      ],
      "text/plain": [
       "| Elapsed Time (Item Statistics) | % Complete |"
      ]
     },
     "metadata": {},
     "output_type": "display_data"
    },
    {
     "data": {
      "text/html": [
       "<pre>+--------------------------------+------------+</pre>"
      ],
      "text/plain": [
       "+--------------------------------+------------+"
      ]
     },
     "metadata": {},
     "output_type": "display_data"
    },
    {
     "data": {
      "text/html": [
       "<pre>| 81.451ms                       | 100        |</pre>"
      ],
      "text/plain": [
       "| 81.451ms                       | 100        |"
      ]
     },
     "metadata": {},
     "output_type": "display_data"
    },
    {
     "data": {
      "text/html": [
       "<pre>+--------------------------------+------------+</pre>"
      ],
      "text/plain": [
       "+--------------------------------+------------+"
      ]
     },
     "metadata": {},
     "output_type": "display_data"
    },
    {
     "data": {
      "text/html": [
       "<pre>Setting up lookup tables.</pre>"
      ],
      "text/plain": [
       "Setting up lookup tables."
      ]
     },
     "metadata": {},
     "output_type": "display_data"
    },
    {
     "data": {
      "text/html": [
       "<pre>Processing data in one pass using dense lookup tables.</pre>"
      ],
      "text/plain": [
       "Processing data in one pass using dense lookup tables."
      ]
     },
     "metadata": {},
     "output_type": "display_data"
    },
    {
     "data": {
      "text/html": [
       "<pre>+-------------------------------------+------------------+-----------------+</pre>"
      ],
      "text/plain": [
       "+-------------------------------------+------------------+-----------------+"
      ]
     },
     "metadata": {},
     "output_type": "display_data"
    },
    {
     "data": {
      "text/html": [
       "<pre>| Elapsed Time (Constructing Lookups) | Total % Complete | Items Processed |</pre>"
      ],
      "text/plain": [
       "| Elapsed Time (Constructing Lookups) | Total % Complete | Items Processed |"
      ]
     },
     "metadata": {},
     "output_type": "display_data"
    },
    {
     "data": {
      "text/html": [
       "<pre>+-------------------------------------+------------------+-----------------+</pre>"
      ],
      "text/plain": [
       "+-------------------------------------+------------------+-----------------+"
      ]
     },
     "metadata": {},
     "output_type": "display_data"
    },
    {
     "data": {
      "text/html": [
       "<pre>| 89.354ms                            | 0.25             | 6               |</pre>"
      ],
      "text/plain": [
       "| 89.354ms                            | 0.25             | 6               |"
      ]
     },
     "metadata": {},
     "output_type": "display_data"
    },
    {
     "data": {
      "text/html": [
       "<pre>| 288.621ms                           | 100              | 1680            |</pre>"
      ],
      "text/plain": [
       "| 288.621ms                           | 100              | 1680            |"
      ]
     },
     "metadata": {},
     "output_type": "display_data"
    },
    {
     "data": {
      "text/html": [
       "<pre>+-------------------------------------+------------------+-----------------+</pre>"
      ],
      "text/plain": [
       "+-------------------------------------+------------------+-----------------+"
      ]
     },
     "metadata": {},
     "output_type": "display_data"
    },
    {
     "data": {
      "text/html": [
       "<pre>Finalizing lookup tables.</pre>"
      ],
      "text/plain": [
       "Finalizing lookup tables."
      ]
     },
     "metadata": {},
     "output_type": "display_data"
    },
    {
     "data": {
      "text/html": [
       "<pre>Generating candidate set for working with new users.</pre>"
      ],
      "text/plain": [
       "Generating candidate set for working with new users."
      ]
     },
     "metadata": {},
     "output_type": "display_data"
    },
    {
     "data": {
      "text/html": [
       "<pre>Finished training in 1.30021s</pre>"
      ],
      "text/plain": [
       "Finished training in 1.30021s"
      ]
     },
     "metadata": {},
     "output_type": "display_data"
    },
    {
     "name": "stdout",
     "output_type": "stream",
     "text": [
      "+---------+----------+--------------------+------+\n",
      "| user_id | movie_id |       score        | rank |\n",
      "+---------+----------+--------------------+------+\n",
      "|    1    |   423    | 0.980611449434557  |  1   |\n",
      "|    1    |   202    | 0.9633960207455031 |  2   |\n",
      "|    1    |   655    | 0.8416029747205837 |  3   |\n",
      "|    1    |   403    | 0.7724758268312644 |  4   |\n",
      "|    1    |   568    | 0.7718456403444741 |  5   |\n",
      "|    2    |    50    | 1.1256258487701416 |  1   |\n",
      "|    2    |   181    | 1.0382135510444641 |  2   |\n",
      "|    2    |    7     | 0.9083804969604199 |  3   |\n",
      "|    2    |   121    | 0.8954406735988764 |  4   |\n",
      "|    2    |    9     | 0.8729543628600928 |  5   |\n",
      "|    3    |   313    | 0.6165961216796528 |  1   |\n",
      "|    3    |   328    | 0.5852612771771171 |  2   |\n",
      "|    3    |   315    | 0.5422587123784152 |  3   |\n",
      "|    3    |   331    | 0.5355071858926252 |  4   |\n",
      "|    3    |   332    | 0.5316696112806146 |  5   |\n",
      "|    4    |    50    | 1.1311477082116264 |  1   |\n",
      "|    4    |   288    | 1.0487151145935059 |  2   |\n",
      "|    4    |   181    | 0.9505999386310577 |  3   |\n",
      "|    4    |   302    | 0.9139021464756557 |  4   |\n",
      "|    4    |   121    | 0.8993381602423531 |  5   |\n",
      "|    5    |   195    | 1.0232926581845139 |  1   |\n",
      "|    5    |   202    | 0.943174810481794  |  2   |\n",
      "|    5    |    56    | 0.8479394096316714 |  3   |\n",
      "|    5    |    82    | 0.7643799738450484 |  4   |\n",
      "|    5    |   568    | 0.7422414024670919 |  5   |\n",
      "+---------+----------+--------------------+------+\n",
      "[25 rows x 4 columns]\n",
      "\n"
     ]
    }
   ],
   "source": [
    "#Train Model\n",
    "#item_sim_model = turicreate.item_similarity_recommender.create(train_data, user_id='user_id', item_id='movie_id', target='rating', similarity_type='pearson')\n",
    "item_sim_model = turicreate.item_similarity_recommender.create(train_data, user_id='user_id', item_id='movie_id', target='rating', similarity_type='cosine')\n",
    "\n",
    "#Make Recommendations:\n",
    "item_sim_recomm = item_sim_model.recommend(users=list(range(1,6)),k=5)\n",
    "item_sim_recomm.print_rows(num_rows=25)"
   ]
  },
  {
   "cell_type": "code",
   "execution_count": 30,
   "metadata": {},
   "outputs": [
    {
     "name": "stdout",
     "output_type": "stream",
     "text": [
      "\n",
      "Precision and recall summary statistics by cutoff\n",
      "+--------+------------------------+-----------------------+\n",
      "| cutoff |     mean_precision     |      mean_recall      |\n",
      "+--------+------------------------+-----------------------+\n",
      "|   1    | 0.0021208907741251345  | 0.0002120890774125135 |\n",
      "|   2    | 0.0010604453870625672  | 0.0002120890774125135 |\n",
      "|   3    | 0.0007069635913750444  | 0.0002120890774125135 |\n",
      "|   4    | 0.0005302226935312836  | 0.0002120890774125135 |\n",
      "|   5    |  0.000424178154825027  | 0.0002120890774125135 |\n",
      "|   6    | 0.0003534817956875222  | 0.0002120890774125135 |\n",
      "|   7    | 0.0003029843963035903  | 0.0002120890774125135 |\n",
      "|   8    | 0.0002651113467656418  | 0.0002120890774125135 |\n",
      "|   9    | 0.00023565453045834795 | 0.0002120890774125135 |\n",
      "|   10   | 0.0002120890774125135  | 0.0002120890774125135 |\n",
      "+--------+------------------------+-----------------------+\n",
      "[10 rows x 3 columns]\n",
      "\n",
      "\n",
      "Overall RMSE: 1.0417647969439832\n",
      "\n",
      "Per User RMSE (best)\n",
      "+---------+--------------------+-------+\n",
      "| user_id |        rmse        | count |\n",
      "+---------+--------------------+-------+\n",
      "|    2    | 0.3905909929967786 |   10  |\n",
      "+---------+--------------------+-------+\n",
      "[1 rows x 3 columns]\n",
      "\n",
      "\n",
      "Per User RMSE (worst)\n",
      "+---------+--------------------+-------+\n",
      "| user_id |        rmse        | count |\n",
      "+---------+--------------------+-------+\n",
      "|   519   | 2.3300010092772054 |   10  |\n",
      "+---------+--------------------+-------+\n",
      "[1 rows x 3 columns]\n",
      "\n",
      "\n",
      "Per Item RMSE (best)\n",
      "+----------+------+-------+\n",
      "| movie_id | rmse | count |\n",
      "+----------+------+-------+\n",
      "|   643    | 0.0  |   1   |\n",
      "+----------+------+-------+\n",
      "[1 rows x 3 columns]\n",
      "\n",
      "\n",
      "Per Item RMSE (worst)\n",
      "+----------+------+-------+\n",
      "| movie_id | rmse | count |\n",
      "+----------+------+-------+\n",
      "|   1306   | 4.0  |   1   |\n",
      "+----------+------+-------+\n",
      "[1 rows x 3 columns]\n",
      "\n",
      "\n",
      "Precision and recall summary statistics by cutoff\n",
      "+--------+---------------------+----------------------+\n",
      "| cutoff |    mean_precision   |     mean_recall      |\n",
      "+--------+---------------------+----------------------+\n",
      "|   1    |  0.3870625662778368 | 0.038706256627783674 |\n",
      "|   2    |  0.3223753976670202 | 0.06447507953340399  |\n",
      "|   3    |  0.2834924001413924 | 0.08504772004241781  |\n",
      "|   4    | 0.26537645811240673 | 0.10615058324496297  |\n",
      "|   5    | 0.24432661717921555 | 0.12216330858960778  |\n",
      "|   6    |  0.2281724991162954 | 0.13690349946977745  |\n",
      "|   7    | 0.21436146038479012 |  0.150053022269353   |\n",
      "|   8    | 0.20334040296924707 | 0.16267232237539808  |\n",
      "|   9    |  0.1937080240367621 | 0.17433722163308574  |\n",
      "|   10   |  0.1860021208907739 |  0.1860021208907739  |\n",
      "+--------+---------------------+----------------------+\n",
      "[10 rows x 3 columns]\n",
      "\n",
      "\n",
      "Overall RMSE: 3.36469093804425\n",
      "\n",
      "Per User RMSE (best)\n",
      "+---------+-------------------+-------+\n",
      "| user_id |        rmse       | count |\n",
      "+---------+-------------------+-------+\n",
      "|   774   | 1.628531626530257 |   10  |\n",
      "+---------+-------------------+-------+\n",
      "[1 rows x 3 columns]\n",
      "\n",
      "\n",
      "Per User RMSE (worst)\n",
      "+---------+-------------------+-------+\n",
      "| user_id |        rmse       | count |\n",
      "+---------+-------------------+-------+\n",
      "|   200   | 4.600407757429357 |   10  |\n",
      "+---------+-------------------+-------+\n",
      "[1 rows x 3 columns]\n",
      "\n",
      "\n",
      "Per Item RMSE (best)\n",
      "+----------+--------------------+-------+\n",
      "| movie_id |        rmse        | count |\n",
      "+----------+--------------------+-------+\n",
      "|   1255   | 0.8007337326804796 |   1   |\n",
      "+----------+--------------------+-------+\n",
      "[1 rows x 3 columns]\n",
      "\n",
      "\n",
      "Per Item RMSE (worst)\n",
      "+----------+------+-------+\n",
      "| movie_id | rmse | count |\n",
      "+----------+------+-------+\n",
      "|   718    | 5.0  |   1   |\n",
      "+----------+------+-------+\n",
      "[1 rows x 3 columns]\n",
      "\n"
     ]
    },
    {
     "data": {
      "text/plain": [
       "{'precision_recall_by_user': Columns:\n",
       " \tuser_id\tint\n",
       " \tcutoff\tint\n",
       " \tprecision\tfloat\n",
       " \trecall\tfloat\n",
       " \tcount\tint\n",
       " \n",
       " Rows: 16974\n",
       " \n",
       " Data:\n",
       " +---------+--------+---------------------+--------+-------+\n",
       " | user_id | cutoff |      precision      | recall | count |\n",
       " +---------+--------+---------------------+--------+-------+\n",
       " |    1    |   1    |         0.0         |  0.0   |   10  |\n",
       " |    1    |   2    |         0.5         |  0.1   |   10  |\n",
       " |    1    |   3    |  0.3333333333333333 |  0.1   |   10  |\n",
       " |    1    |   4    |         0.25        |  0.1   |   10  |\n",
       " |    1    |   5    |         0.2         |  0.1   |   10  |\n",
       " |    1    |   6    | 0.16666666666666666 |  0.1   |   10  |\n",
       " |    1    |   7    |  0.2857142857142857 |  0.2   |   10  |\n",
       " |    1    |   8    |         0.25        |  0.2   |   10  |\n",
       " |    1    |   9    |  0.2222222222222222 |  0.2   |   10  |\n",
       " |    1    |   10   |         0.2         |  0.2   |   10  |\n",
       " +---------+--------+---------------------+--------+-------+\n",
       " [16974 rows x 5 columns]\n",
       " Note: Only the head of the SFrame is printed.\n",
       " You can use print_rows(num_rows=m, num_columns=n) to print more rows and columns.,\n",
       " 'precision_recall_overall': Columns:\n",
       " \tcutoff\tint\n",
       " \tprecision\tfloat\n",
       " \trecall\tfloat\n",
       " \n",
       " Rows: 18\n",
       " \n",
       " Data:\n",
       " +--------+---------------------+---------------------+\n",
       " | cutoff |      precision      |        recall       |\n",
       " +--------+---------------------+---------------------+\n",
       " |   1    | 0.38706256627783714 | 0.03870625662778368 |\n",
       " |   2    | 0.32237539766702067 | 0.06447507953340403 |\n",
       " |   3    | 0.28349240014139265 | 0.08504772004241781 |\n",
       " |   4    | 0.26537645811240734 | 0.10615058324496268 |\n",
       " |   5    | 0.24432661717921558 | 0.12216330858960779 |\n",
       " |   6    |  0.2281724991162955 | 0.13690349946977723 |\n",
       " |   7    |  0.2143614603847902 | 0.15005302226935285 |\n",
       " |   8    | 0.20334040296924719 | 0.16267232237539778 |\n",
       " |   9    | 0.19370802403676213 |  0.174337221633086  |\n",
       " |   10   | 0.18600212089077395 | 0.18600212089077395 |\n",
       " +--------+---------------------+---------------------+\n",
       " [18 rows x 3 columns]\n",
       " Note: Only the head of the SFrame is printed.\n",
       " You can use print_rows(num_rows=m, num_columns=n) to print more rows and columns.,\n",
       " 'rmse_by_user': Columns:\n",
       " \tuser_id\tint\n",
       " \trmse\tfloat\n",
       " \tcount\tint\n",
       " \n",
       " Rows: 943\n",
       " \n",
       " Data:\n",
       " +---------+--------------------+-------+\n",
       " | user_id |        rmse        | count |\n",
       " +---------+--------------------+-------+\n",
       " |   118   | 4.347754809780868  |   10  |\n",
       " |   660   | 2.295434664365538  |   10  |\n",
       " |   839   | 2.865815141900298  |   10  |\n",
       " |   699   | 2.8528168263064813 |   10  |\n",
       " |   567   | 4.008379594102373  |   10  |\n",
       " |   773   | 3.408385297601065  |   10  |\n",
       " |   435   | 3.115950801548329  |   10  |\n",
       " |   554   | 3.314916287274961  |   10  |\n",
       " |   898   | 3.2007061715760337 |   10  |\n",
       " |   840   | 3.8435230711756283 |   10  |\n",
       " +---------+--------------------+-------+\n",
       " [943 rows x 3 columns]\n",
       " Note: Only the head of the SFrame is printed.\n",
       " You can use print_rows(num_rows=m, num_columns=n) to print more rows and columns.,\n",
       " 'rmse_by_item': Columns:\n",
       " \tmovie_id\tint\n",
       " \trmse\tfloat\n",
       " \tcount\tint\n",
       " \n",
       " Rows: 1129\n",
       " \n",
       " Data:\n",
       " +----------+--------------------+-------+\n",
       " | movie_id |        rmse        | count |\n",
       " +----------+--------------------+-------+\n",
       " |   118    | 2.672435332015491  |   28  |\n",
       " |   660    | 4.157818331046581  |   11  |\n",
       " |   839    | 3.960041740666265  |   1   |\n",
       " |   699    | 3.483835897387634  |   6   |\n",
       " |   567    | 2.8736444538163255 |   2   |\n",
       " |   773    |        4.0         |   1   |\n",
       " |   1029   |        1.0         |   1   |\n",
       " |   1504   | 3.876125156879425  |   1   |\n",
       " |   435    | 3.547257140403167  |   17  |\n",
       " |   1289   | 1.9933351587741932 |   1   |\n",
       " +----------+--------------------+-------+\n",
       " [1129 rows x 3 columns]\n",
       " Note: Only the head of the SFrame is printed.\n",
       " You can use print_rows(num_rows=m, num_columns=n) to print more rows and columns.,\n",
       " 'rmse_overall': 3.36469093804425}"
      ]
     },
     "execution_count": 30,
     "metadata": {},
     "output_type": "execute_result"
    }
   ],
   "source": [
    "popularity_model.evaluate(test_data)\n",
    "item_sim_model.evaluate(test_data)"
   ]
  },
  {
   "cell_type": "code",
   "execution_count": 31,
   "metadata": {
    "_uuid": "fd1fdb9b7196010b77f3c0efb394e9797d53c891"
   },
   "outputs": [
    {
     "name": "stdout",
     "output_type": "stream",
     "text": [
      "(Columns:\n",
      "\tuser_id\tint\n",
      "\tmovie_id\tint\n",
      "\trating\tint\n",
      "\tunix_timestamp\tint\n",
      "\n",
      "Rows: 9430\n",
      "\n",
      "Data:\n",
      "+---------+----------+--------+----------------+\n",
      "| user_id | movie_id | rating | unix_timestamp |\n",
      "+---------+----------+--------+----------------+\n",
      "|    1    |    20    |   4    |   887431883    |\n",
      "|    1    |    33    |   4    |   878542699    |\n",
      "|    1    |    61    |   4    |   878542420    |\n",
      "|    1    |   117    |   3    |   874965739    |\n",
      "|    1    |   155    |   2    |   878542201    |\n",
      "|    1    |   160    |   4    |   875072547    |\n",
      "|    1    |   171    |   5    |   889751711    |\n",
      "|    1    |   189    |   3    |   888732928    |\n",
      "|    1    |   202    |   5    |   875072442    |\n",
      "|    1    |   265    |   4    |   878542441    |\n",
      "+---------+----------+--------+----------------+\n",
      "[9430 rows x 4 columns]\n",
      "Note: Only the head of the SFrame is printed.\n",
      "You can use print_rows(num_rows=m, num_columns=n) to print more rows and columns., [Class                            : PopularityRecommender\n",
      "\n",
      "Schema\n",
      "------\n",
      "User ID                          : user_id\n",
      "Item ID                          : movie_id\n",
      "Target                           : rating\n",
      "Additional observation features  : 0\n",
      "User side features               : []\n",
      "Item side features               : []\n",
      "\n",
      "Statistics\n",
      "----------\n",
      "Number of observations           : 90570\n",
      "Number of users                  : 943\n",
      "Number of items                  : 1680\n",
      "\n",
      "Training summary\n",
      "----------------\n",
      "Training time                    : 0.006\n",
      "\n",
      "Model Parameters\n",
      "----------------\n",
      "Model class                      : PopularityRecommender\n",
      ", Class                            : ItemSimilarityRecommender\n",
      "\n",
      "Schema\n",
      "------\n",
      "User ID                          : user_id\n",
      "Item ID                          : movie_id\n",
      "Target                           : rating\n",
      "Additional observation features  : 0\n",
      "User side features               : []\n",
      "Item side features               : []\n",
      "\n",
      "Statistics\n",
      "----------\n",
      "Number of observations           : 90570\n",
      "Number of users                  : 943\n",
      "Number of items                  : 1680\n",
      "\n",
      "Training summary\n",
      "----------------\n",
      "Training time                    : 1.3003\n",
      "\n",
      "Model Parameters\n",
      "----------------\n",
      "Model class                      : ItemSimilarityRecommender\n",
      "threshold                        : 0.001\n",
      "similarity_type                  : cosine\n",
      "training_method                  : auto\n",
      "\n",
      "Other Settings\n",
      "--------------\n",
      "degree_approximation_threshold   : 4096\n",
      "max_data_passes                  : 4096\n",
      "max_item_neighborhood_size       : 64\n",
      "nearest_neighbors_interaction_proportion_threshold : 0.05\n",
      "seed_item_set_size               : 50\n",
      "sparse_density_estimation_sample_size : 4096\n",
      "target_memory_usage              : 8589934592\n",
      "])\n"
     ]
    }
   ],
   "source": [
    "#model_performance = turicreate.compare(test_data, [popularity_model, item_sim_model])\n",
    "#turicreate.show_comparison(model_performance,[popularity_model, item_sim_model])\n",
    "model_performance = turicreate.recommender.util.compare_models = (test_data, [popularity_model, item_sim_model])\n",
    "print (model_performance)\n"
   ]
  },
  {
   "cell_type": "markdown",
   "metadata": {},
   "source": [
    "### Model-based Collaborative Filtering\n",
    "\n",
    "Let’s calculate the sparsity level of MovieLens dataset:\n"
   ]
  },
  {
   "cell_type": "code",
   "execution_count": 32,
   "metadata": {},
   "outputs": [
    {
     "name": "stdout",
     "output_type": "stream",
     "text": [
      "90570 1586126.0\n",
      "The sparsity level of MovieLens100K is 94.3%\n"
     ]
    }
   ],
   "source": [
    "print (len(ratings_train), float(n_users*n_items))\n",
    "sparsity=round(1.0-len(ratings_train)/float(n_users*n_items),3)\n",
    "print ('The sparsity level of MovieLens100K is ' +  str(sparsity*100) + '%')"
   ]
  },
  {
   "cell_type": "markdown",
   "metadata": {},
   "source": [
    "in python:"
   ]
  },
  {
   "cell_type": "code",
   "execution_count": 33,
   "metadata": {},
   "outputs": [
    {
     "name": "stdout",
     "output_type": "stream",
     "text": [
      "User-based CF MSE: 2.424744265287439\n"
     ]
    }
   ],
   "source": [
    "import scipy.sparse as sp\n",
    "from scipy.sparse.linalg import svds\n",
    "\n",
    "def SVD(rating_matrix):\n",
    "    #get SVD components from train matrix. Choose k.\n",
    "    u, s, vt = svds(rating_matrix, k = 20)\n",
    "    s_diag_matrix=np.diag(s)\n",
    "    X_pred = np.dot(np.dot(u, s_diag_matrix), vt)\n",
    "    return X_pred\n",
    "\n",
    "print ('User-based CF MSE: ' + str(rmse(SVD(data_matrix), test_data_matrix)))"
   ]
  },
  {
   "cell_type": "markdown",
   "metadata": {},
   "source": [
    "in turicreate:"
   ]
  },
  {
   "cell_type": "code",
   "execution_count": 34,
   "metadata": {},
   "outputs": [
    {
     "data": {
      "text/html": [
       "<pre>Preparing data set.</pre>"
      ],
      "text/plain": [
       "Preparing data set."
      ]
     },
     "metadata": {},
     "output_type": "display_data"
    },
    {
     "data": {
      "text/html": [
       "<pre>    Data has 90570 observations with 943 users and 1680 items.</pre>"
      ],
      "text/plain": [
       "    Data has 90570 observations with 943 users and 1680 items."
      ]
     },
     "metadata": {},
     "output_type": "display_data"
    },
    {
     "data": {
      "text/html": [
       "<pre>    Data prepared in: 0.144774s</pre>"
      ],
      "text/plain": [
       "    Data prepared in: 0.144774s"
      ]
     },
     "metadata": {},
     "output_type": "display_data"
    },
    {
     "data": {
      "text/html": [
       "<pre>Training factorization_recommender for recommendations.</pre>"
      ],
      "text/plain": [
       "Training factorization_recommender for recommendations."
      ]
     },
     "metadata": {},
     "output_type": "display_data"
    },
    {
     "data": {
      "text/html": [
       "<pre>+--------------------------------+--------------------------------------------------+----------+</pre>"
      ],
      "text/plain": [
       "+--------------------------------+--------------------------------------------------+----------+"
      ]
     },
     "metadata": {},
     "output_type": "display_data"
    },
    {
     "data": {
      "text/html": [
       "<pre>| Parameter                      | Description                                      | Value    |</pre>"
      ],
      "text/plain": [
       "| Parameter                      | Description                                      | Value    |"
      ]
     },
     "metadata": {},
     "output_type": "display_data"
    },
    {
     "data": {
      "text/html": [
       "<pre>+--------------------------------+--------------------------------------------------+----------+</pre>"
      ],
      "text/plain": [
       "+--------------------------------+--------------------------------------------------+----------+"
      ]
     },
     "metadata": {},
     "output_type": "display_data"
    },
    {
     "data": {
      "text/html": [
       "<pre>| num_factors                    | Factor Dimension                                 | 8        |</pre>"
      ],
      "text/plain": [
       "| num_factors                    | Factor Dimension                                 | 8        |"
      ]
     },
     "metadata": {},
     "output_type": "display_data"
    },
    {
     "data": {
      "text/html": [
       "<pre>| regularization                 | L2 Regularization on Factors                     | 1e-08    |</pre>"
      ],
      "text/plain": [
       "| regularization                 | L2 Regularization on Factors                     | 1e-08    |"
      ]
     },
     "metadata": {},
     "output_type": "display_data"
    },
    {
     "data": {
      "text/html": [
       "<pre>| solver                         | Solver used for training                         | adagrad  |</pre>"
      ],
      "text/plain": [
       "| solver                         | Solver used for training                         | adagrad  |"
      ]
     },
     "metadata": {},
     "output_type": "display_data"
    },
    {
     "data": {
      "text/html": [
       "<pre>| linear_regularization          | L2 Regularization on Linear Coefficients         | 1e-10    |</pre>"
      ],
      "text/plain": [
       "| linear_regularization          | L2 Regularization on Linear Coefficients         | 1e-10    |"
      ]
     },
     "metadata": {},
     "output_type": "display_data"
    },
    {
     "data": {
      "text/html": [
       "<pre>| max_iterations                 | Maximum Number of Iterations                     | 50       |</pre>"
      ],
      "text/plain": [
       "| max_iterations                 | Maximum Number of Iterations                     | 50       |"
      ]
     },
     "metadata": {},
     "output_type": "display_data"
    },
    {
     "data": {
      "text/html": [
       "<pre>+--------------------------------+--------------------------------------------------+----------+</pre>"
      ],
      "text/plain": [
       "+--------------------------------+--------------------------------------------------+----------+"
      ]
     },
     "metadata": {},
     "output_type": "display_data"
    },
    {
     "data": {
      "text/html": [
       "<pre>  Optimizing model using SGD; tuning step size.</pre>"
      ],
      "text/plain": [
       "  Optimizing model using SGD; tuning step size."
      ]
     },
     "metadata": {},
     "output_type": "display_data"
    },
    {
     "data": {
      "text/html": [
       "<pre>  Using 11321 / 90570 points for tuning the step size.</pre>"
      ],
      "text/plain": [
       "  Using 11321 / 90570 points for tuning the step size."
      ]
     },
     "metadata": {},
     "output_type": "display_data"
    },
    {
     "data": {
      "text/html": [
       "<pre>+---------+-------------------+------------------------------------------+</pre>"
      ],
      "text/plain": [
       "+---------+-------------------+------------------------------------------+"
      ]
     },
     "metadata": {},
     "output_type": "display_data"
    },
    {
     "data": {
      "text/html": [
       "<pre>| Attempt | Initial Step Size | Estimated Objective Value                |</pre>"
      ],
      "text/plain": [
       "| Attempt | Initial Step Size | Estimated Objective Value                |"
      ]
     },
     "metadata": {},
     "output_type": "display_data"
    },
    {
     "data": {
      "text/html": [
       "<pre>+---------+-------------------+------------------------------------------+</pre>"
      ],
      "text/plain": [
       "+---------+-------------------+------------------------------------------+"
      ]
     },
     "metadata": {},
     "output_type": "display_data"
    },
    {
     "data": {
      "text/html": [
       "<pre>| 0       | 16.6667           | Not Viable                               |</pre>"
      ],
      "text/plain": [
       "| 0       | 16.6667           | Not Viable                               |"
      ]
     },
     "metadata": {},
     "output_type": "display_data"
    },
    {
     "data": {
      "text/html": [
       "<pre>| 1       | 4.16667           | Not Viable                               |</pre>"
      ],
      "text/plain": [
       "| 1       | 4.16667           | Not Viable                               |"
      ]
     },
     "metadata": {},
     "output_type": "display_data"
    },
    {
     "data": {
      "text/html": [
       "<pre>| 2       | 1.04167           | Not Viable                               |</pre>"
      ],
      "text/plain": [
       "| 2       | 1.04167           | Not Viable                               |"
      ]
     },
     "metadata": {},
     "output_type": "display_data"
    },
    {
     "data": {
      "text/html": [
       "<pre>| 3       | 0.260417          | 0.199834                                 |</pre>"
      ],
      "text/plain": [
       "| 3       | 0.260417          | 0.199834                                 |"
      ]
     },
     "metadata": {},
     "output_type": "display_data"
    },
    {
     "data": {
      "text/html": [
       "<pre>| 4       | 0.130208          | 0.419463                                 |</pre>"
      ],
      "text/plain": [
       "| 4       | 0.130208          | 0.419463                                 |"
      ]
     },
     "metadata": {},
     "output_type": "display_data"
    },
    {
     "data": {
      "text/html": [
       "<pre>+---------+-------------------+------------------------------------------+</pre>"
      ],
      "text/plain": [
       "+---------+-------------------+------------------------------------------+"
      ]
     },
     "metadata": {},
     "output_type": "display_data"
    },
    {
     "data": {
      "text/html": [
       "<pre>| Final   | 0.260417          | 0.199834                                 |</pre>"
      ],
      "text/plain": [
       "| Final   | 0.260417          | 0.199834                                 |"
      ]
     },
     "metadata": {},
     "output_type": "display_data"
    },
    {
     "data": {
      "text/html": [
       "<pre>+---------+-------------------+------------------------------------------+</pre>"
      ],
      "text/plain": [
       "+---------+-------------------+------------------------------------------+"
      ]
     },
     "metadata": {},
     "output_type": "display_data"
    },
    {
     "data": {
      "text/html": [
       "<pre>Starting Optimization.</pre>"
      ],
      "text/plain": [
       "Starting Optimization."
      ]
     },
     "metadata": {},
     "output_type": "display_data"
    },
    {
     "data": {
      "text/html": [
       "<pre>+---------+--------------+-------------------+-----------------------+-------------+</pre>"
      ],
      "text/plain": [
       "+---------+--------------+-------------------+-----------------------+-------------+"
      ]
     },
     "metadata": {},
     "output_type": "display_data"
    },
    {
     "data": {
      "text/html": [
       "<pre>| Iter.   | Elapsed Time | Approx. Objective | Approx. Training RMSE | Step Size   |</pre>"
      ],
      "text/plain": [
       "| Iter.   | Elapsed Time | Approx. Objective | Approx. Training RMSE | Step Size   |"
      ]
     },
     "metadata": {},
     "output_type": "display_data"
    },
    {
     "data": {
      "text/html": [
       "<pre>+---------+--------------+-------------------+-----------------------+-------------+</pre>"
      ],
      "text/plain": [
       "+---------+--------------+-------------------+-----------------------+-------------+"
      ]
     },
     "metadata": {},
     "output_type": "display_data"
    },
    {
     "data": {
      "text/html": [
       "<pre>| Initial | 68us         | 1.268             | 1.12606               |             |</pre>"
      ],
      "text/plain": [
       "| Initial | 68us         | 1.268             | 1.12606               |             |"
      ]
     },
     "metadata": {},
     "output_type": "display_data"
    },
    {
     "data": {
      "text/html": [
       "<pre>+---------+--------------+-------------------+-----------------------+-------------+</pre>"
      ],
      "text/plain": [
       "+---------+--------------+-------------------+-----------------------+-------------+"
      ]
     },
     "metadata": {},
     "output_type": "display_data"
    },
    {
     "data": {
      "text/html": [
       "<pre>| 1       | 60.41ms      | 1.42844           | 1.19517               | 0.260417    |</pre>"
      ],
      "text/plain": [
       "| 1       | 60.41ms      | 1.42844           | 1.19517               | 0.260417    |"
      ]
     },
     "metadata": {},
     "output_type": "display_data"
    },
    {
     "data": {
      "text/html": [
       "<pre>| 2       | 116.438ms    | 0.871143          | 0.933344              | 0.260417    |</pre>"
      ],
      "text/plain": [
       "| 2       | 116.438ms    | 0.871143          | 0.933344              | 0.260417    |"
      ]
     },
     "metadata": {},
     "output_type": "display_data"
    },
    {
     "data": {
      "text/html": [
       "<pre>| 3       | 168.132ms    | 0.800583          | 0.894746              | 0.260417    |</pre>"
      ],
      "text/plain": [
       "| 3       | 168.132ms    | 0.800583          | 0.894746              | 0.260417    |"
      ]
     },
     "metadata": {},
     "output_type": "display_data"
    },
    {
     "data": {
      "text/html": [
       "<pre>| 4       | 215.946ms    | 0.765389          | 0.874857              | 0.260417    |</pre>"
      ],
      "text/plain": [
       "| 4       | 215.946ms    | 0.765389          | 0.874857              | 0.260417    |"
      ]
     },
     "metadata": {},
     "output_type": "display_data"
    },
    {
     "data": {
      "text/html": [
       "<pre>| 5       | 271.367ms    | 0.743878          | 0.862475              | 0.260417    |</pre>"
      ],
      "text/plain": [
       "| 5       | 271.367ms    | 0.743878          | 0.862475              | 0.260417    |"
      ]
     },
     "metadata": {},
     "output_type": "display_data"
    },
    {
     "data": {
      "text/html": [
       "<pre>| 10      | 518.733ms    | 0.668646          | 0.817695              | 0.260417    |</pre>"
      ],
      "text/plain": [
       "| 10      | 518.733ms    | 0.668646          | 0.817695              | 0.260417    |"
      ]
     },
     "metadata": {},
     "output_type": "display_data"
    },
    {
     "data": {
      "text/html": [
       "<pre>| 50      | 2.53s        | 0.556977          | 0.746283              | 0.260417    |</pre>"
      ],
      "text/plain": [
       "| 50      | 2.53s        | 0.556977          | 0.746283              | 0.260417    |"
      ]
     },
     "metadata": {},
     "output_type": "display_data"
    },
    {
     "data": {
      "text/html": [
       "<pre>+---------+--------------+-------------------+-----------------------+-------------+</pre>"
      ],
      "text/plain": [
       "+---------+--------------+-------------------+-----------------------+-------------+"
      ]
     },
     "metadata": {},
     "output_type": "display_data"
    },
    {
     "data": {
      "text/html": [
       "<pre>Optimization Complete: Maximum number of passes through the data reached.</pre>"
      ],
      "text/plain": [
       "Optimization Complete: Maximum number of passes through the data reached."
      ]
     },
     "metadata": {},
     "output_type": "display_data"
    },
    {
     "data": {
      "text/html": [
       "<pre>Computing final objective value and training RMSE.</pre>"
      ],
      "text/plain": [
       "Computing final objective value and training RMSE."
      ]
     },
     "metadata": {},
     "output_type": "display_data"
    },
    {
     "data": {
      "text/html": [
       "<pre>       Final objective value: 0.535584</pre>"
      ],
      "text/plain": [
       "       Final objective value: 0.535584"
      ]
     },
     "metadata": {},
     "output_type": "display_data"
    },
    {
     "data": {
      "text/html": [
       "<pre>       Final training RMSE: 0.73181</pre>"
      ],
      "text/plain": [
       "       Final training RMSE: 0.73181"
      ]
     },
     "metadata": {},
     "output_type": "display_data"
    },
    {
     "name": "stdout",
     "output_type": "stream",
     "text": [
      "+---------+----------+--------------------+------+\n",
      "| user_id | movie_id |       score        | rank |\n",
      "+---------+----------+--------------------+------+\n",
      "|    1    |   718    | 5.178422532424026  |  1   |\n",
      "|    1    |   408    | 5.041959724768692  |  2   |\n",
      "|    1    |   647    | 4.973559401377731  |  3   |\n",
      "|    1    |   1449   | 4.952143392905288  |  4   |\n",
      "|    1    |   896    | 4.939109138592773  |  5   |\n",
      "|    2    |   1449   | 4.932576946362548  |  1   |\n",
      "|    2    |   180    | 4.877814091190391  |  2   |\n",
      "|    2    |   187    | 4.841799653514915  |  3   |\n",
      "|    2    |   480    | 4.837975315197998  |  4   |\n",
      "|    2    |   357    | 4.7989096561518245 |  5   |\n",
      "|    3    |    19    | 5.926108337387138  |  1   |\n",
      "|    3    |   1368   | 5.713348604187065  |  2   |\n",
      "|    3    |   647    | 5.530661977275901  |  3   |\n",
      "|    3    |   1512   | 5.516597933515602  |  4   |\n",
      "|    3    |   1126   | 5.506409622177177  |  5   |\n",
      "|    4    |   1022   | 6.541613853916221  |  1   |\n",
      "|    4    |   320    | 6.534536696418815  |  2   |\n",
      "|    4    |   1174   | 6.231015003665977  |  3   |\n",
      "|    4    |   179    | 6.153199619993263  |  4   |\n",
      "|    4    |   853    | 5.878596938594871  |  5   |\n",
      "|    5    |   919    | 5.267167783721977  |  1   |\n",
      "|    5    |   114    | 5.2180027136650615 |  2   |\n",
      "|    5    |   647    | 5.1381124625053936 |  3   |\n",
      "|    5    |   718    | 5.061577774032646  |  4   |\n",
      "|    5    |   641    | 5.028264797672325  |  5   |\n",
      "+---------+----------+--------------------+------+\n",
      "[25 rows x 4 columns]\n",
      "\n"
     ]
    }
   ],
   "source": [
    "factorization_model = turicreate.factorization_recommender.create(train_data, user_id='user_id', item_id='movie_id', target='rating')\n",
    "factorization_recomm = factorization_model.recommend(users=list(range(1,6)),k=5)\n",
    "factorization_recomm.print_rows(num_rows=25)"
   ]
  },
  {
   "cell_type": "code",
   "execution_count": 35,
   "metadata": {},
   "outputs": [
    {
     "name": "stdout",
     "output_type": "stream",
     "text": [
      "\n",
      "Precision and recall summary statistics by cutoff\n",
      "+--------+----------------------+-----------------------+\n",
      "| cutoff |    mean_precision    |      mean_recall      |\n",
      "+--------+----------------------+-----------------------+\n",
      "|   1    | 0.03075291622481441  | 0.0030752916224814444 |\n",
      "|   2    | 0.02598091198303289  |  0.005196182396606572 |\n",
      "|   3    | 0.023329798515376483 |  0.006998939554612942 |\n",
      "|   4    | 0.02439024390243904  |  0.009756097560975611 |\n",
      "|   5    | 0.024178154825026485 |  0.012089077412513242 |\n",
      "|   6    | 0.02456698480028279  |  0.014740190880169679 |\n",
      "|   7    | 0.02363278291168005  |  0.016542948038176044 |\n",
      "|   8    | 0.023727465535524926 |  0.018981972428419955 |\n",
      "|   9    | 0.023329798515376435 |  0.020996818663838797 |\n",
      "|   10   | 0.022481442205726433 |  0.022481442205726433 |\n",
      "+--------+----------------------+-----------------------+\n",
      "[10 rows x 3 columns]\n",
      "\n",
      "\n",
      "Overall RMSE: 1.0285461080759564\n",
      "\n",
      "Per User RMSE (best)\n",
      "+---------+---------------------+-------+\n",
      "| user_id |         rmse        | count |\n",
      "+---------+---------------------+-------+\n",
      "|   549   | 0.22779223323859218 |   10  |\n",
      "+---------+---------------------+-------+\n",
      "[1 rows x 3 columns]\n",
      "\n",
      "\n",
      "Per User RMSE (worst)\n",
      "+---------+-------------------+-------+\n",
      "| user_id |        rmse       | count |\n",
      "+---------+-------------------+-------+\n",
      "|   443   | 2.268075448149868 |   10  |\n",
      "+---------+-------------------+-------+\n",
      "[1 rows x 3 columns]\n",
      "\n",
      "\n",
      "Per Item RMSE (best)\n",
      "+----------+-----------------------+-------+\n",
      "| movie_id |          rmse         | count |\n",
      "+----------+-----------------------+-------+\n",
      "|   725    | 0.0006444413479904654 |   1   |\n",
      "+----------+-----------------------+-------+\n",
      "[1 rows x 3 columns]\n",
      "\n",
      "\n",
      "Per Item RMSE (worst)\n",
      "+----------+-------------------+-------+\n",
      "| movie_id |        rmse       | count |\n",
      "+----------+-------------------+-------+\n",
      "|   1104   | 4.366616264631313 |   1   |\n",
      "+----------+-------------------+-------+\n",
      "[1 rows x 3 columns]\n",
      "\n"
     ]
    },
    {
     "data": {
      "text/plain": [
       "{'precision_recall_by_user': Columns:\n",
       " \tuser_id\tint\n",
       " \tcutoff\tint\n",
       " \tprecision\tfloat\n",
       " \trecall\tfloat\n",
       " \tcount\tint\n",
       " \n",
       " Rows: 16974\n",
       " \n",
       " Data:\n",
       " +---------+--------+-----------+--------+-------+\n",
       " | user_id | cutoff | precision | recall | count |\n",
       " +---------+--------+-----------+--------+-------+\n",
       " |    1    |   1    |    0.0    |  0.0   |   10  |\n",
       " |    1    |   2    |    0.0    |  0.0   |   10  |\n",
       " |    1    |   3    |    0.0    |  0.0   |   10  |\n",
       " |    1    |   4    |    0.0    |  0.0   |   10  |\n",
       " |    1    |   5    |    0.0    |  0.0   |   10  |\n",
       " |    1    |   6    |    0.0    |  0.0   |   10  |\n",
       " |    1    |   7    |    0.0    |  0.0   |   10  |\n",
       " |    1    |   8    |    0.0    |  0.0   |   10  |\n",
       " |    1    |   9    |    0.0    |  0.0   |   10  |\n",
       " |    1    |   10   |    0.0    |  0.0   |   10  |\n",
       " +---------+--------+-----------+--------+-------+\n",
       " [16974 rows x 5 columns]\n",
       " Note: Only the head of the SFrame is printed.\n",
       " You can use print_rows(num_rows=m, num_columns=n) to print more rows and columns.,\n",
       " 'precision_recall_overall': Columns:\n",
       " \tcutoff\tint\n",
       " \tprecision\tfloat\n",
       " \trecall\tfloat\n",
       " \n",
       " Rows: 18\n",
       " \n",
       " Data:\n",
       " +--------+----------------------+-----------------------+\n",
       " | cutoff |      precision       |         recall        |\n",
       " +--------+----------------------+-----------------------+\n",
       " |   1    | 0.03075291622481441  | 0.0030752916224814453 |\n",
       " |   2    | 0.02598091198303289  |  0.005196182396606574 |\n",
       " |   3    | 0.023329798515376483 |  0.006998939554612939 |\n",
       " |   4    | 0.024390243902439046 |  0.009756097560975611 |\n",
       " |   5    | 0.024178154825026492 |  0.012089077412513246 |\n",
       " |   6    | 0.02456698480028281  |  0.014740190880169675 |\n",
       " |   7    | 0.023632782911680056 |  0.016542948038176047 |\n",
       " |   8    | 0.023727465535524933 |  0.01898197242841995  |\n",
       " |   9    | 0.023329798515376428 |  0.02099681866383879  |\n",
       " |   10   | 0.022481442205726447 |  0.022481442205726447 |\n",
       " +--------+----------------------+-----------------------+\n",
       " [18 rows x 3 columns]\n",
       " Note: Only the head of the SFrame is printed.\n",
       " You can use print_rows(num_rows=m, num_columns=n) to print more rows and columns.,\n",
       " 'rmse_by_user': Columns:\n",
       " \tuser_id\tint\n",
       " \trmse\tfloat\n",
       " \tcount\tint\n",
       " \n",
       " Rows: 943\n",
       " \n",
       " Data:\n",
       " +---------+--------------------+-------+\n",
       " | user_id |        rmse        | count |\n",
       " +---------+--------------------+-------+\n",
       " |   118   | 1.0843931625424275 |   10  |\n",
       " |   660   | 0.5107267782096472 |   10  |\n",
       " |   839   | 1.1492204569953006 |   10  |\n",
       " |   699   | 0.8789306183805792 |   10  |\n",
       " |   567   | 0.9130588041043097 |   10  |\n",
       " |   773   | 0.8635569664079797 |   10  |\n",
       " |   435   | 0.6311150274902207 |   10  |\n",
       " |   554   | 0.540285713562796  |   10  |\n",
       " |   898   | 1.343577237159543  |   10  |\n",
       " |   840   | 0.8291730268093597 |   10  |\n",
       " +---------+--------------------+-------+\n",
       " [943 rows x 3 columns]\n",
       " Note: Only the head of the SFrame is printed.\n",
       " You can use print_rows(num_rows=m, num_columns=n) to print more rows and columns.,\n",
       " 'rmse_by_item': Columns:\n",
       " \tmovie_id\tint\n",
       " \trmse\tfloat\n",
       " \tcount\tint\n",
       " \n",
       " Rows: 1129\n",
       " \n",
       " Data:\n",
       " +----------+----------------------+-------+\n",
       " | movie_id |         rmse         | count |\n",
       " +----------+----------------------+-------+\n",
       " |   118    |  0.7455902550384653  |   28  |\n",
       " |   660    |  0.8188914848481712  |   11  |\n",
       " |   839    | 0.043879240045165524 |   1   |\n",
       " |   699    |   1.09064773557533   |   6   |\n",
       " |   567    |  0.5122149017873056  |   2   |\n",
       " |   773    |  0.7337910644377943  |   1   |\n",
       " |   1029   |  1.0525800785528956  |   1   |\n",
       " |   1504   | 0.39106745806674326  |   1   |\n",
       " |   435    |  0.8637594799695412  |   17  |\n",
       " |   1289   |  1.3496079418601519  |   1   |\n",
       " +----------+----------------------+-------+\n",
       " [1129 rows x 3 columns]\n",
       " Note: Only the head of the SFrame is printed.\n",
       " You can use print_rows(num_rows=m, num_columns=n) to print more rows and columns.,\n",
       " 'rmse_overall': 1.0285461080759564}"
      ]
     },
     "execution_count": 35,
     "metadata": {},
     "output_type": "execute_result"
    }
   ],
   "source": [
    "factorization_model.evaluate(test_data)"
   ]
  }
 ],
 "metadata": {
  "kernelspec": {
   "display_name": "Python 3",
   "language": "python",
   "name": "python3"
  },
  "language_info": {
   "codemirror_mode": {
    "name": "ipython",
    "version": 3
   },
   "file_extension": ".py",
   "mimetype": "text/x-python",
   "name": "python",
   "nbconvert_exporter": "python",
   "pygments_lexer": "ipython3",
   "version": "3.6.6"
  }
 },
 "nbformat": 4,
 "nbformat_minor": 1
}
